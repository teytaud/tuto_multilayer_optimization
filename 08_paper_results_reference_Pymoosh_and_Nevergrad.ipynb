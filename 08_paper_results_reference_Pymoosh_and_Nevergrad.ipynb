{
  "cells": [
    {
      "cell_type": "markdown",
      "metadata": {
        "id": "T3q10U7oLvfl"
      },
      "source": [
        "## Pymoosh and Nevergrad for the inverse design of multilayered structures\n",
        "\n",
        "This colab is based on Pymoosh (https://github.com/AnMoreau/PyMoosh) and Nevergrad (https://github.com/facebookresearch/nevergrad). If you like our codes, please consider putting a star on our githubs :-)\n",
        "\n",
        "Context = shape optimization for photonics\n"
      ]
    },
    {
      "cell_type": "markdown",
      "metadata": {
        "id": "-GCSrW_jAUdA"
      },
      "source": [
        "# Here we do installations, imports and parametrizations. You might want to create your own copy of this colab (File, Save a copy). Edit here for parametrizing your run, before clicking on \"run everything\" in the \"run\" menu."
      ]
    },
    {
      "cell_type": "code",
      "execution_count": null,
      "metadata": {
        "colab": {
          "base_uri": "https://localhost:8080/",
          "height": 1000
        },
        "id": "3Zzcmip3sbL2",
        "outputId": "fcc2bcbe-8c47-4179-ac3f-0412344a731d"
      },
      "outputs": [
        {
          "output_type": "stream",
          "name": "stdout",
          "text": [
            "Requirement already satisfied: pymoosh in /usr/local/lib/python3.10/dist-packages (3.1)\n",
            "Requirement already satisfied: matplotlib in /usr/local/lib/python3.10/dist-packages (from pymoosh) (3.7.1)\n",
            "Requirement already satisfied: numpy in /usr/local/lib/python3.10/dist-packages (from pymoosh) (1.26.1)\n",
            "Requirement already satisfied: scipy in /usr/local/lib/python3.10/dist-packages (from pymoosh) (1.11.3)\n",
            "Requirement already satisfied: contourpy>=1.0.1 in /usr/local/lib/python3.10/dist-packages (from matplotlib->pymoosh) (1.1.1)\n",
            "Requirement already satisfied: cycler>=0.10 in /usr/local/lib/python3.10/dist-packages (from matplotlib->pymoosh) (0.12.1)\n",
            "Requirement already satisfied: fonttools>=4.22.0 in /usr/local/lib/python3.10/dist-packages (from matplotlib->pymoosh) (4.43.1)\n",
            "Requirement already satisfied: kiwisolver>=1.0.1 in /usr/local/lib/python3.10/dist-packages (from matplotlib->pymoosh) (1.4.5)\n",
            "Requirement already satisfied: packaging>=20.0 in /usr/local/lib/python3.10/dist-packages (from matplotlib->pymoosh) (23.2)\n",
            "Requirement already satisfied: pillow>=6.2.0 in /usr/local/lib/python3.10/dist-packages (from matplotlib->pymoosh) (9.4.0)\n",
            "Requirement already satisfied: pyparsing>=2.3.1 in /usr/local/lib/python3.10/dist-packages (from matplotlib->pymoosh) (3.1.1)\n",
            "Requirement already satisfied: python-dateutil>=2.7 in /usr/local/lib/python3.10/dist-packages (from matplotlib->pymoosh) (2.8.2)\n",
            "Requirement already satisfied: six>=1.5 in /usr/local/lib/python3.10/dist-packages (from python-dateutil>=2.7->matplotlib->pymoosh) (1.16.0)\n",
            "Requirement already satisfied: bayes-optim==0.2.5.5 in /usr/local/lib/python3.10/dist-packages (0.2.5.5)\n",
            "Requirement already satisfied: dill>=0.3.3 in /usr/local/lib/python3.10/dist-packages (from bayes-optim==0.2.5.5) (0.3.7)\n",
            "Requirement already satisfied: joblib>=1.0.0 in /usr/local/lib/python3.10/dist-packages (from bayes-optim==0.2.5.5) (1.3.2)\n",
            "Requirement already satisfied: numpy>=1.19.2 in /usr/local/lib/python3.10/dist-packages (from bayes-optim==0.2.5.5) (1.26.1)\n",
            "Requirement already satisfied: pyDOE>=0.3.8 in /usr/local/lib/python3.10/dist-packages (from bayes-optim==0.2.5.5) (0.3.8)\n",
            "Requirement already satisfied: scikit-learn>=0.24.2 in /usr/local/lib/python3.10/dist-packages (from bayes-optim==0.2.5.5) (1.2.2)\n",
            "Requirement already satisfied: scipy>=1.5.4 in /usr/local/lib/python3.10/dist-packages (from bayes-optim==0.2.5.5) (1.11.3)\n",
            "Requirement already satisfied: sklearn==0.0 in /usr/local/lib/python3.10/dist-packages (from bayes-optim==0.2.5.5) (0.0)\n",
            "Requirement already satisfied: tabulate>=0.8.7 in /usr/local/lib/python3.10/dist-packages (from bayes-optim==0.2.5.5) (0.9.0)\n",
            "Requirement already satisfied: threadpoolctl>=2.1.0 in /usr/local/lib/python3.10/dist-packages (from bayes-optim==0.2.5.5) (3.2.0)\n",
            "Requirement already satisfied: requests>=2.25.0 in /usr/local/lib/python3.10/dist-packages (from bayes-optim==0.2.5.5) (2.31.0)\n",
            "Requirement already satisfied: requests-oauthlib>=1.3.0 in /usr/local/lib/python3.10/dist-packages (from bayes-optim==0.2.5.5) (1.3.1)\n",
            "Requirement already satisfied: torch>=1.7.1 in /usr/local/lib/python3.10/dist-packages (from bayes-optim==0.2.5.5) (2.1.0+cu118)\n",
            "Requirement already satisfied: gpytorch>=1.4.2 in /usr/local/lib/python3.10/dist-packages (from bayes-optim==0.2.5.5) (1.11)\n",
            "Requirement already satisfied: sobol-seq>=0.2.0 in /usr/local/lib/python3.10/dist-packages (from bayes-optim==0.2.5.5) (0.2.0)\n",
            "Requirement already satisfied: py-expression-eval>=0.3.13 in /usr/local/lib/python3.10/dist-packages (from bayes-optim==0.2.5.5) (0.3.14)\n",
            "Requirement already satisfied: linear-operator>=0.5.0 in /usr/local/lib/python3.10/dist-packages (from gpytorch>=1.4.2->bayes-optim==0.2.5.5) (0.5.2)\n",
            "Requirement already satisfied: charset-normalizer<4,>=2 in /usr/local/lib/python3.10/dist-packages (from requests>=2.25.0->bayes-optim==0.2.5.5) (3.3.1)\n",
            "Requirement already satisfied: idna<4,>=2.5 in /usr/local/lib/python3.10/dist-packages (from requests>=2.25.0->bayes-optim==0.2.5.5) (3.4)\n",
            "Requirement already satisfied: urllib3<3,>=1.21.1 in /usr/local/lib/python3.10/dist-packages (from requests>=2.25.0->bayes-optim==0.2.5.5) (2.0.7)\n",
            "Requirement already satisfied: certifi>=2017.4.17 in /usr/local/lib/python3.10/dist-packages (from requests>=2.25.0->bayes-optim==0.2.5.5) (2023.7.22)\n",
            "Requirement already satisfied: oauthlib>=3.0.0 in /usr/local/lib/python3.10/dist-packages (from requests-oauthlib>=1.3.0->bayes-optim==0.2.5.5) (3.2.2)\n",
            "Requirement already satisfied: filelock in /usr/local/lib/python3.10/dist-packages (from torch>=1.7.1->bayes-optim==0.2.5.5) (3.12.4)\n",
            "Requirement already satisfied: typing-extensions in /usr/local/lib/python3.10/dist-packages (from torch>=1.7.1->bayes-optim==0.2.5.5) (4.5.0)\n",
            "Requirement already satisfied: sympy in /usr/local/lib/python3.10/dist-packages (from torch>=1.7.1->bayes-optim==0.2.5.5) (1.12)\n",
            "Requirement already satisfied: networkx in /usr/local/lib/python3.10/dist-packages (from torch>=1.7.1->bayes-optim==0.2.5.5) (3.2)\n",
            "Requirement already satisfied: jinja2 in /usr/local/lib/python3.10/dist-packages (from torch>=1.7.1->bayes-optim==0.2.5.5) (3.1.2)\n",
            "Requirement already satisfied: fsspec in /usr/local/lib/python3.10/dist-packages (from torch>=1.7.1->bayes-optim==0.2.5.5) (2023.6.0)\n",
            "Requirement already satisfied: triton==2.1.0 in /usr/local/lib/python3.10/dist-packages (from torch>=1.7.1->bayes-optim==0.2.5.5) (2.1.0)\n",
            "Requirement already satisfied: jaxtyping>=0.2.9 in /usr/local/lib/python3.10/dist-packages (from linear-operator>=0.5.0->gpytorch>=1.4.2->bayes-optim==0.2.5.5) (0.2.23)\n",
            "Requirement already satisfied: typeguard~=2.13.3 in /usr/local/lib/python3.10/dist-packages (from linear-operator>=0.5.0->gpytorch>=1.4.2->bayes-optim==0.2.5.5) (2.13.3)\n",
            "Requirement already satisfied: MarkupSafe>=2.0 in /usr/local/lib/python3.10/dist-packages (from jinja2->torch>=1.7.1->bayes-optim==0.2.5.5) (2.1.3)\n",
            "Requirement already satisfied: mpmath>=0.19 in /usr/local/lib/python3.10/dist-packages (from sympy->torch>=1.7.1->bayes-optim==0.2.5.5) (1.3.0)\n",
            "Requirement already satisfied: nevergrad in /usr/local/lib/python3.10/dist-packages (1.0.0)\n",
            "Requirement already satisfied: numpy>=1.24.0 in /usr/local/lib/python3.10/dist-packages (from nevergrad) (1.26.1)\n",
            "Requirement already satisfied: cma>=2.6.0 in /usr/local/lib/python3.10/dist-packages (from nevergrad) (3.3.0)\n",
            "Requirement already satisfied: bayesian-optimization>=1.2.0 in /usr/local/lib/python3.10/dist-packages (from nevergrad) (1.4.3)\n",
            "Requirement already satisfied: typing-extensions>=3.6.6 in /usr/local/lib/python3.10/dist-packages (from nevergrad) (4.5.0)\n",
            "Requirement already satisfied: pandas in /usr/local/lib/python3.10/dist-packages (from nevergrad) (1.5.3)\n",
            "Requirement already satisfied: scipy>=1.0.0 in /usr/local/lib/python3.10/dist-packages (from bayesian-optimization>=1.2.0->nevergrad) (1.11.3)\n",
            "Requirement already satisfied: scikit-learn>=0.18.0 in /usr/local/lib/python3.10/dist-packages (from bayesian-optimization>=1.2.0->nevergrad) (1.2.2)\n",
            "Requirement already satisfied: colorama>=0.4.6 in /usr/local/lib/python3.10/dist-packages (from bayesian-optimization>=1.2.0->nevergrad) (0.4.6)\n",
            "Requirement already satisfied: python-dateutil>=2.8.1 in /usr/local/lib/python3.10/dist-packages (from pandas->nevergrad) (2.8.2)\n",
            "Requirement already satisfied: pytz>=2020.1 in /usr/local/lib/python3.10/dist-packages (from pandas->nevergrad) (2023.3.post1)\n",
            "Requirement already satisfied: six>=1.5 in /usr/local/lib/python3.10/dist-packages (from python-dateutil>=2.8.1->pandas->nevergrad) (1.16.0)\n",
            "Requirement already satisfied: joblib>=1.1.1 in /usr/local/lib/python3.10/dist-packages (from scikit-learn>=0.18.0->bayesian-optimization>=1.2.0->nevergrad) (1.3.2)\n",
            "Requirement already satisfied: threadpoolctl>=2.0.0 in /usr/local/lib/python3.10/dist-packages (from scikit-learn>=0.18.0->bayesian-optimization>=1.2.0->nevergrad) (3.2.0)\n"
          ]
        },
        {
          "output_type": "execute_result",
          "data": {
            "text/plain": [
              "'conv=keras.layers.Conv1D'"
            ],
            "application/vnd.google.colaboratory.intrinsic+json": {
              "type": "string"
            }
          },
          "metadata": {},
          "execution_count": 11
        }
      ],
      "source": [
        "!pip install pymoosh\n",
        "!pip install bayes-optim==0.2.5.5\n",
        "!pip install nevergrad\n",
        "\n",
        "# Let us get rid of some deprecation warning in SkLearn.\n",
        "import warnings\n",
        "warnings.filterwarnings(\"ignore\", category=DeprecationWarning)\n",
        "warnings.filterwarnings(\"ignore\", category=FutureWarning)\n",
        "warnings.filterwarnings(\"ignore\")\n",
        "\n",
        "\n",
        ", conv=keras.layers.Conv1D\n"
      ]
    },
    {
      "cell_type": "code",
      "execution_count": null,
      "metadata": {
        "colab": {
          "base_uri": "https://localhost:8080/"
        },
        "id": "CiTNTmhN6MiW",
        "outputId": "2988085c-0898-4121-aa84-fe45db30e716"
      },
      "outputs": [
        {
          "output_type": "stream",
          "name": "stdout",
          "text": [
            "We work on photovoltaics, dim=10, budget=10000, bounds=[30,250]\n"
          ]
        }
      ],
      "source": [
        "# Helper function.\n",
        "def doint(s):  # Converting a string into an int.\n",
        "   return 7 + sum([ord(c)*i for i, c in enumerate(s)])\n",
        "\n",
        "def get_color(o):  # Converting a string into a color.\n",
        "  colors = ['b', 'g', 'r', 'c', 'm', 'y', 'k']\n",
        "  #c = {\"CMA\": \"c\", \"QODE\": \"r\", \"BFGS\": \"g\", \"LBFGSB\": \"b\", \"GradBFGS\": \"k\", \"QNDE\": \"m\"}[o]\n",
        "  algs = [\"CMA\", \"QODE\", \"BFGS\", \"LBFGSB\", \"GradBFGS\", \"QNDE\"]\n",
        "  if o in algs:\n",
        "      return colors[algs.index(o)]\n",
        "  return colors[doint(o) % len(colors)]\n",
        "\n",
        "\n",
        "# Please modify the parameters below at your best convenience.\n",
        "maximum_time_per_run_in_seconds = 600  # Maximum number of seconds per run (then: interruption).\n",
        "num_experiments = 15  # Number of times we reproduce each experiments.\n",
        "maximum_optimization_overhead = 5  # Maximum ratio between the cost and the cost of the objective function only.\n",
        "\n",
        "# List of optimization methods in the extended setup.\n",
        "list_optims = [\"ChainMetaModelSQP\", \"MetaModel\", \"SQP\", \"CMA\", \"DE\", \"RotatedTwoPointsDE\", \"OnePlusOne\", \"QODE\", \"QNDE\", \"TwoPointsDE\", \"PSO\", \"GeneticDE\", \"NelderMead\", \"Cobyla\" ,\"Powell\"]\n",
        "list_optims = [\"CMA\", \"QODE\", \"QNDE\", \"BFGS\", \"PCABO\", \"BO\", \"LBFGSB\"]\n",
        "# if you want more, you might add:  list_optims += [\"BayesOptimBO\", \"PCABO\", \"RCobyla\", \"Shiwa\", \"CMandAS2\", \"NGOpt\", \"NGOptRW\"]\n",
        "\n",
        "# Choice of objective function. List of possibilities readable just below.\n",
        "obj_name = \"photovoltaics\"\n",
        "assert obj_name in [\"bragg\", \"photovoltaics\", \"bigbragg\", \"bigphotovoltaics\", \"ellipsometry\", \"minibragg\", \"hugephotovoltaics\"]\n",
        "run_performance = False  # Whether we want to run the comparison between various optimization methods.\n",
        "\n",
        "if obj_name == \"bragg\":\n",
        "  nb_layers = 20\n",
        "  opti_wave = 600\n",
        "  mat1 = 1.4\n",
        "  mat2 = 1.8\n",
        "  min_th = 0 # We don't want negative thicknesses.\n",
        "  max_th = opti_wave/(2*mat1) # A thickness of lambda/2n + t has the same behaviour as a thickness t\n",
        "\n",
        "elif obj_name == \"bigbragg\":\n",
        "  nb_layers = 40\n",
        "  opti_wave = 600\n",
        "  mat1 = 1.4\n",
        "  mat2 = 1.8\n",
        "  min_th = 0 # We don't want negative thicknesses.\n",
        "  max_th = opti_wave/(2*mat1) # A thickness of lambda/2n + t has the same behaviour as a thickness t\n",
        "\n",
        "elif obj_name == \"ellipsometry\":\n",
        "  nb_layers = 1\n",
        "  min_th = 50\n",
        "  max_th = 150\n",
        "\n",
        "elif obj_name == \"photovoltaics\":\n",
        "  nb_layers = 10\n",
        "  min_th = 30\n",
        "  max_th = 250\n",
        "\n",
        "elif obj_name == \"bigphotovoltaics\":\n",
        "  nb_layers = 20\n",
        "  min_th = 30\n",
        "  max_th = 250\n",
        "\n",
        "elif obj_name == \"minibragg\":\n",
        "  nb_layers = 10\n",
        "  opti_wave = 600\n",
        "  mat1 = 1.4\n",
        "  mat2 = 1.8\n",
        "  min_th = 0 # We don't want negative thicknesses.\n",
        "  max_th = opti_wave/(2*mat1) # A thickness of lambda/2n + t has the same behaviour as a thickness t\n",
        "\n",
        "elif obj_name == \"hugephotovoltaics\":\n",
        "  nb_layers = 32\n",
        "  min_th = 30\n",
        "  max_th = 250\n",
        "\n",
        "else:\n",
        "  assert False, f\"Unknown objective function {obj_name}\"\n",
        "\n",
        "dim = 2 * nb_layers if \"ellipsometry\" in obj_name else nb_layers\n",
        "\n",
        "budget = dim * 1000\n",
        "if obj_name == \"ellipsometry\":\n",
        "  budget = 100\n",
        "\n",
        "if dim < 15 and budget < 1000:  # We remove Bayesian optimization from high-dimensional or high-budget contexts.\n",
        "  list_optims += [\"BO\", \"PCABO\"]\n",
        "\n",
        "# All problems.\n",
        "min_ind = 1.1\n",
        "max_ind = 3\n",
        "\n",
        "context_string = f\"We work on {obj_name}, dim={dim}, budget={budget}, bounds=[{min_th},{max_th}]\"\n",
        "print(context_string)"
      ]
    },
    {
      "cell_type": "markdown",
      "metadata": {
        "id": "_uUVNFq-ANGo"
      },
      "source": [
        "\n",
        "# Here we define the Pymoosh objective functions."
      ]
    },
    {
      "cell_type": "code",
      "execution_count": null,
      "metadata": {
        "id": "QIjCQREp6fA9"
      },
      "outputs": [],
      "source": [
        "import nevergrad as ng\n",
        "import matplotlib.pyplot as plt\n",
        "import PyMoosh as pm\n",
        "import numpy as np\n",
        "\n",
        "def bragg(x):\n",
        "  # This cost function corresponds to the problem\n",
        "  # of maximizing the reflectance, at a given wavelength,\n",
        "  # of a multilayered structure with alternating refractive\n",
        "  # indexes. This problem is inspired by the first cases studied in\n",
        "  # https://www.nature.com/articles/s41598-020-68719-3\n",
        "  # :-:-:-:-:-:-:-:-:-:-:-:-:-:-:-:-:-:-:-:-:-:-:-:-:-:-:-:-:-:-:-:-:\n",
        "  # The input, x, corresponds to the thicknesses of all the layers, :\n",
        "  # starting with the upper one.                                    :\n",
        "  # :-:-:-:-:-:-:-:-:-:-:-:-:-:-:-:-:-:-:-:-:-:-:-:-:-:-:-:-:-:-:-:-:\n",
        "  x = list(x)\n",
        "  n = len(x)\n",
        "  # Working wavelength\n",
        "  wl = 600.\n",
        "  materials = [1,1.4**2,1.8**2]\n",
        "  stack = [0] + [2,1] * (n//2) + [2]\n",
        "  thicknesses = [0.] + list(x) + [0.]\n",
        "  structure = pm.Structure(materials,stack,np.array(thicknesses),verbose = False)\n",
        "  _, R = pm.coefficient_I(structure,wl,0.,0)\n",
        "  cost = 1-R\n",
        "  return cost\n",
        "\n",
        "def photovoltaics(x):\n",
        "  n = len(x)\n",
        "  materials = [1., 2., 3., \"SiA\"]\n",
        "  stack = [0] + [1,2] * (n//2) + [3]\n",
        "  thicknesses = [0] + list(x) + [30000]\n",
        "  structure = pm.Structure(materials, stack, np.array(thicknesses), verbose = False)\n",
        "  incidence = 0\n",
        "  pola = 0\n",
        "  wl_min = 375\n",
        "  wl_max = 750\n",
        "  active_lay = len(thicknesses) - 1\n",
        "  number_pts = 300\n",
        "  eff, curr, curr_max, wl, spectrum, absorb4 = pm.photo(structure, incidence, pola, wl_min, wl_max, active_lay, number_pts)\n",
        "  cost = 1 - eff\n",
        "  return cost\n",
        "\n",
        "mat = [1.] + [np.random.random()*(max_ind-min_ind) + min_ind for _ in range(nb_layers)] + [\"Gold\"]\n",
        "layers = list(range(nb_layers+2))\n",
        "structure = [0] + [np.random.random()*(max_th-min_th) + min_th for _ in range(nb_layers)] + [0]\n",
        "\n",
        "\n",
        "angle = 40*np.pi/180\n",
        "wav_list = np.linspace(400, 800, 100)\n",
        "\n",
        "WAVELENGTH = 900\n",
        "\n",
        "\n",
        "def ref_structure(mat, layers, structure, wav_list, angle):\n",
        "    struct = pm.Structure(mat, layers, structure,verbose = False)\n",
        "    ellips = np.zeros(len(wav_list), dtype=complex)\n",
        "    for i, wav in enumerate(wav_list):\n",
        "        r_s, _, _, _ = pm.coefficient(struct, wav, angle, 0)\n",
        "        r_p, _, _, _ = pm.coefficient(struct, wav, angle, 1)\n",
        "\n",
        "        ellips[i] = r_p/r_s\n",
        "    return ellips, struct\n",
        "\n",
        "ref_ellips, ellips_structure = ref_structure(mat, layers, structure, wav_list, angle)\n",
        "\n",
        "def ellipsometry(X, ref_ellips=ref_ellips, wav_list=wav_list, angle=angle, nb_layers=nb_layers):\n",
        "    mat = [1.] + [x for x in X[:nb_layers]] + [\"Gold\"]\n",
        "    layers = [i for i in range(nb_layers+2)]\n",
        "    structure = np.array([0] + [x for x in X[nb_layers:]] + [0])\n",
        "\n",
        "    ellips = np.zeros(len(wav_list), dtype=complex)\n",
        "    interface = pm.Structure(mat, layers, structure, verbose=False)\n",
        "    for i, wav in enumerate(wav_list):\n",
        "        r_s, _ = pm.coefficient_I(interface, wav, angle, 0)\n",
        "        r_p, _ = pm.coefficient_I(interface, wav, angle, 1)\n",
        "\n",
        "        ellips[i] = r_p/r_s\n",
        "\n",
        "    return np.sum(np.abs(ellips - ref_ellips))\n",
        "\n",
        "\n",
        "objective_function = {\"bragg\": bragg, \"bigbragg\": bragg, \"photovoltaics\": photovoltaics, \"bigphotovoltaics\": photovoltaics, \"ellipsometry\": ellipsometry}[obj_name]\n",
        "\n"
      ]
    },
    {
      "cell_type": "markdown",
      "metadata": {
        "id": "llp0SmcjD4KP"
      },
      "source": [
        "\n",
        "# Simple running example for DE with Bragg"
      ]
    },
    {
      "cell_type": "code",
      "execution_count": null,
      "metadata": {
        "id": "geQSTcijD36m"
      },
      "outputs": [],
      "source": [
        "if \"bragg\" in obj_name:\n",
        "\n",
        "  X_min = np.array([min_th]*nb_layers)\n",
        "  X_max = np.array([max_th]*nb_layers)\n",
        "\n",
        "\n",
        "  best, convergence = pm.differential_evolution(bragg, budget, X_min, X_max)\n",
        "\n",
        "  plt.plot(convergence)\n",
        "  plt.xlabel(\"Optimization step\")\n",
        "  plt.ylabel(\"Cost\")\n",
        "  plt.show()\n",
        "\n",
        "  def bragg_plot(best):\n",
        "    # Showing the final spectrum\n",
        "    materials = [1,mat1**2,mat2**2]\n",
        "    stack = [0] + [2,1] * (len(best) //2) + [2]\n",
        "    thicknesses = [0.] + [t for t in best] + [0.]\n",
        "\n",
        "    bragg_mirror = [opti_wave / (4*np.sqrt(materials[2])), opti_wave / (4*np.sqrt(materials[1]))] * (nb_layers//2)\n",
        "    bragg_th = [0.] + [t for t in bragg_mirror] + [0.]\n",
        "    structure = pm.Structure(materials,stack,thicknesses,verbose = False)\n",
        "    bragg_structure = pm.Structure(materials,stack,bragg_th,verbose = False)\n",
        "\n",
        "    wavelengths = np.linspace(opti_wave-150, opti_wave+150, 300)\n",
        "    spectrum = np.zeros_like(wavelengths)\n",
        "    bragg_spectrum = np.zeros_like(wavelengths)\n",
        "    for i, wav in enumerate(wavelengths):\n",
        "      _,_,R,_ = pm.coefficient(structure,wav,0.,0)\n",
        "      spectrum[i] = R\n",
        "      _,_,R,_ = pm.coefficient(bragg_structure,wav,0.,0)\n",
        "      bragg_spectrum[i] = R\n",
        "\n",
        "  # plt.plot(wavelengths, spectrum, label=\"Optimized structure\")\n",
        "    plt.plot(wavelengths, bragg_spectrum, label=\"Bragg mirror\")\n",
        "    plt.xlabel(\"Wavelength (nm)\")\n",
        "    plt.ylabel(\"Reflectivity\")\n",
        "    plt.legend()\n",
        "    plt.show()\n",
        "\n",
        "    structure.plot_stack(wavelength=opti_wave)\n",
        "    bragg_structure.plot_stack(wavelength=opti_wave)\n",
        "\n",
        "  bragg_plot(best)\n"
      ]
    },
    {
      "cell_type": "markdown",
      "metadata": {
        "id": "C3rji7SQShkn"
      },
      "source": [
        "# Simple running example for DE with Photovoltaics\n",
        "\n",
        "\n",
        "\n"
      ]
    },
    {
      "cell_type": "code",
      "execution_count": null,
      "metadata": {
        "colab": {
          "base_uri": "https://localhost:8080/",
          "height": 1000
        },
        "id": "PfcgjI5Ztk6b",
        "outputId": "cffd2650-ce3a-48bb-d3e3-ddaea3f580c3"
      },
      "outputs": [
        {
          "output_type": "display_data",
          "data": {
            "text/plain": [
              "<Figure size 640x480 with 1 Axes>"
            ],
            "image/png": "[encoded data removed]"
          },
          "metadata": {}
        },
        {
          "output_type": "display_data",
          "data": {
            "text/plain": [
              "<Figure size 640x480 with 1 Axes>"
            ],
            "image/png": "[encoded data removed]"
          },
          "metadata": {}
        },
        {
          "output_type": "display_data",
          "data": {
            "text/plain": [
              "<Figure size 640x480 with 1 Axes>"
            ],
            "image/png": "[encoded data removed]"
          },
          "metadata": {}
        }
      ],
      "source": [
        "if \"photovoltaics\" in obj_name:\n",
        "\n",
        "  X_min = np.array([min_th]*nb_layers)\n",
        "  X_max = np.array([max_th]*nb_layers)\n",
        "\n",
        "  best, convergence = pm.differential_evolution(photovoltaics, budget, X_min, X_max)\n",
        "\n",
        "  plt.figure(2)\n",
        "  plt.plot(convergence)\n",
        "  plt.xlabel(\"Optimization step\")\n",
        "  plt.ylabel(\"Cost\")\n",
        "  plt.show()\n",
        "\n",
        "  def photovoltaics_plot(best):\n",
        "      # Showing the final spectrum\n",
        "      materials = [1., 2., 3., \"SiA\"]\n",
        "      stack = [0] + [1,2] * (len(best) // 2) + [3]\n",
        "      thicknesses = [0.] + [t for t in best] + [30000.]\n",
        "\n",
        "      structure = pm.Structure(materials, stack, thicknesses, verbose = False)\n",
        "      incidence = 0\n",
        "      pola = 0\n",
        "      wl_min = 375\n",
        "      wl_max = 750\n",
        "      active_lay = len(thicknesses) - 1\n",
        "      number_pts = 300\n",
        "      eff, curr, curr_max, wl, spectrum, absorb_opt = pm.photo(structure, incidence, pola, wl_min, wl_max, active_lay, number_pts)\n",
        "\n",
        "      plt.plot(wl, absorb_opt, label = \"optimized absorption\")\n",
        "      plt.xlabel(\"Wavelength (nm)\")\n",
        "      plt.ylabel(\"Absorption\")\n",
        "      plt.legend()\n",
        "      plt.show()\n",
        "\n",
        "      thicknesses_for_image = [30] + [t for t in best] + [30]\n",
        "      structure_image = pm.Structure(materials, stack, thicknesses_for_image, verbose = False)\n",
        "      structure_image.plot_stack()\n",
        "\n",
        "  photovoltaics_plot(best)\n"
      ]
    },
    {
      "cell_type": "markdown",
      "metadata": {
        "id": "DYLlkkAKA1vQ"
      },
      "source": []
    },
    {
      "cell_type": "markdown",
      "metadata": {
        "id": "F3IyA_MuSobm"
      },
      "source": [
        "# Simple running example for DE with Ellipsometry"
      ]
    },
    {
      "cell_type": "code",
      "execution_count": null,
      "metadata": {
        "id": "fDu9Py01297R"
      },
      "outputs": [],
      "source": [
        "if \"ellipsometry\" in obj_name:  # See parametrization at the top of the present colab.\n",
        "  nb_runs = 20\n",
        "\n",
        "  X_min = np.array([min_ind] * (nb_layers) +  [min_th] * (nb_layers))\n",
        "  X_max = np.array([max_ind] * (nb_layers) +  [max_th] * (nb_layers))\n",
        "\n",
        "  convs = []\n",
        "  bests = []\n",
        "  scores = []\n",
        "  for i in range(nb_runs):\n",
        "    print(f\"{i+1} / {nb_runs}\")\n",
        "    best, convergence = pm.differential_evolution(ellipsometry, budget, X_min, X_max)\n",
        "    bests.append(best)\n",
        "    convs.append(convergence)\n",
        "    scores.append(convergence[-1])\n",
        "\n",
        "  order = np.argsort(scores)\n",
        "  print(order)\n",
        "\n",
        "  # Last structure\n",
        "  mat = [1.] + [x for x in best[:nb_layers]] + [\"Gold\"]\n",
        "  layers = [i for i in range(nb_layers+2)]\n",
        "  structure = [0] + [x for x in best[nb_layers:]] + [0]\n",
        "  best_struct = pm.Structure(mat, layers, structure)\n",
        "\n",
        "  for i in range(nb_runs):\n",
        "    plt.plot(convs[i])\n",
        "  plt.xlabel(\"Optimization step\")\n",
        "  plt.ylabel(\"Cost\")\n",
        "  plt.show()\n",
        "\n",
        "  # Best ever structure\n",
        "  best = bests[order[0]]\n",
        "  mat = [1.] + [x for x in best[:nb_layers]] + [\"Gold\"]\n",
        "  layers = [i for i in range(nb_layers+2)]\n",
        "  structure = [0] + [x for x in best[nb_layers:]] + [0]\n",
        "  best_struct = pm.Structure(mat, layers, structure)\n",
        "\n",
        "\n",
        "  ellips_structure.plot_stack()\n",
        "  best_struct.plot_stack()"
      ]
    },
    {
      "cell_type": "markdown",
      "metadata": {
        "id": "sq67HSk9_KG1"
      },
      "source": []
    },
    {
      "cell_type": "markdown",
      "metadata": {
        "id": "JVeF1KsrD4vr"
      },
      "source": [
        "# Performance comparisons\n",
        "\n",
        "Here we compare different optimization methods.\n",
        "The list of these methods is in the top code block.\n",
        "The objective function used in the comparison is specified in the top code block.\n",
        "The next code block does the plottings."
      ]
    },
    {
      "cell_type": "code",
      "execution_count": null,
      "metadata": {
        "id": "IhIXJNNL7sNW"
      },
      "outputs": [],
      "source": [
        "if run_performance:\n",
        "\n",
        "  import time\n",
        "  # Now we run all algorithms and we store results in dictionaries.\n",
        "  scores = {}\n",
        "  computational_cost = {}\n",
        "  yval = {}\n",
        "  for optim_name in list_optims:\n",
        "    print(\"Running \", optim_name)\n",
        "    scores[optim_name] = []\n",
        "    computational_cost[optim_name] = []\n",
        "    yval[optim_name] = []\n",
        "    for xp in range(num_experiments):\n",
        "      # We slightly randomize the upper bound, for checking the robustness.\n",
        "      r = 0. if xp == 0 else (np.random.rand() - 0.5) * (max_th - min_th) * .01\n",
        "      if obj_name == \"ellipsometry\":\n",
        "        array1 = ng.p.Array(init=[min_ind]*nb_layers, lower=min_ind, upper=max_ind)\n",
        "        array2 = ng.p.Array(init=[min_th]*nb_layers, lower=min_th, upper=max_th - r)\n",
        "        instrumentation = ng.p.Instrumentation(\n",
        "            array1,\n",
        "            array2,\n",
        "        )\n",
        "      else:\n",
        "        instrumentation = ng.p.Array(init=[min_th]*dim, lower=min_th, upper=max_th - r)\n",
        "      optim = ng.optimizers.registry[optim_name](instrumentation, budget)\n",
        "      best_y = float(\"inf\")\n",
        "      t0 = time.time()\n",
        "      xval = []\n",
        "      obj_time = float(\"inf\")\n",
        "      for k in range(budget):\n",
        "        if time.time() - t0 < min(maximum_time_per_run_in_seconds, maximum_optimization_overhead * (k+1) * obj_time):\n",
        "          x = optim.ask()\n",
        "          t1 = time.time()\n",
        "          val = x.value\n",
        "          if obj_name == \"ellipsometry\":\n",
        "            val = list(val[0][0]) + list(val[0][1])\n",
        "          elif obj_name == \"ellipsometry2\":\n",
        "            val = [val[0][i][0] for i in range(len(val[0]))]\n",
        "          y = objective_function(val)\n",
        "          obj_time = float(time.time() - t1)\n",
        "          optim.tell(x, y)\n",
        "          if y < best_y:\n",
        "            best_y = y\n",
        "        if int(np.log2(k + 1) + .999999) == int(np.log2((k + 1))) or k == budget - 1:\n",
        "          xval += [k+1]\n",
        "          if len(yval[optim_name]) < len(xval):\n",
        "            yval[optim_name] += [[]]\n",
        "          yval[optim_name][len(xval)-1] += [best_y]\n",
        "      computational_cost[optim_name] += [time.time() - t0]\n",
        "      scores[optim_name] += [best_y]\n"
      ]
    },
    {
      "cell_type": "markdown",
      "metadata": {
        "id": "788YN59tVzsu"
      },
      "source": [
        "# Below a code block for plotting the results."
      ]
    },
    {
      "cell_type": "code",
      "execution_count": null,
      "metadata": {
        "id": "gFRpwTP3KZex"
      },
      "outputs": [],
      "source": [
        "if run_performance:\n",
        "  import matplotlib.pyplot as plt\n",
        "  plt.rcParams['font.size'] = \"20\" #str(int(plt.rcParams['font.size']) + 2)\n",
        "  plt.rcParams['figure.figsize'] = [15, 9]\n",
        "  plt.rcParams[\"figure.autolayout\"] = True\n",
        "  from google.colab import files\n",
        "\n",
        "  angles = [c * 2 * 3.14159 / 10 for c in range(10)] + [0.]\n",
        "\n",
        "  # Plotting the convergence curves, NOT aggregated.\n",
        "  plt.clf()\n",
        "  np.random.seed(7)\n",
        "  for o in sorted(scores, key=lambda x: -np.sum(scores[x]) / len(scores[x])):\n",
        "    print(o, xval, yval[o])\n",
        "    yval_mean = [np.sum(yval[o][i]) / len(yval[o][i]) for i in range(len(yval[o]))]\n",
        "    yval_std = [np.std(yval[o][i]) / np.sqrt(len(yval[o][i]) - 1) for i in range(len(yval[o]))]\n",
        "    c = get_color(o)\n",
        "    s = np.random.RandomState(doint(o)).choice([6, 10, 13])\n",
        "    m = np.random.RandomState(doint(o)).choice([\"o\", \"^\", \"v\", \"<\", \">\", \"1\", \"2\", \"3\", \"4\", \"8\", \"s\", \"p\", \"P\", \"*\", \"h\", \"H\", \"+\", \"x\", \"X\", \"D\", \"d\", \"|\", \"_\"])\n",
        "\n",
        "    plt.semilogx(xval, yval_mean, label=o, c=c,\n",
        "              marker=m, markersize=s)\n",
        "    for k in range(len(yval[o][0])):\n",
        "      yval_k = [yval[o][i][k] for i in range(len(yval[o]))]\n",
        "      plt.semilogx(xval, yval_k, c=c, marker=m, markersize=s)\n",
        "    #plt.annotate(o, (xval[-1], yval_mean[-1]), rotation=30)\n",
        "    for i in range(len(xval)):\n",
        "      #plt.plot([xval[i], xval[i]], [yval_mean[i] - yval_std[i], yval_mean[i] + yval_std[i]], c=\"k\", marker=\"+\")\n",
        "      plt.plot([xval[i] * (1. + .1 * np.cos(theta)) for theta in angles], [yval_mean[i] + yval_std[i] * np.sin(theta) for theta in angles], c=\"grey\", linestyle=\"dashed\")\n",
        "  plt.legend()\n",
        "  plt.title(context_string + \"\\n Convergence curves\")\n",
        "  plt.tight_layout()\n",
        "  plt.savefig(\"fcc\" + obj_name + \".png\")\n",
        "  files.download(\"fcc\" + obj_name + \".png\")\n",
        "  plt.savefig(\"fcc\" + obj_name + \".svg\")\n",
        "  files.download(\"fcc\" + obj_name + \".svg\")\n",
        "  plt.pause(0.05)\n",
        "\n",
        "  # Plotting the convergence curves, aggregated.\n",
        "  plt.clf()\n",
        "  np.random.seed(7)\n",
        "  for o in sorted(scores, key=lambda x: -np.sum(scores[x]) / len(scores[x])):\n",
        "    print(o, xval, yval[o])\n",
        "    yval_mean = [np.sum(yval[o][i]) / len(yval[o][i]) for i in range(len(yval[o]))]\n",
        "    yval_std = [np.std(yval[o][i]) / np.sqrt(len(yval[o][i]) - 1) for i in range(len(yval[o]))]\n",
        "    c = get_color(o)\n",
        "    s = np.random.RandomState(doint(o)).choice([6, 10, 13])\n",
        "    m = np.random.RandomState(doint(o)).choice([\"o\", \"^\", \"v\", \"<\", \">\", \"1\", \"2\", \"3\", \"4\", \"8\", \"s\", \"p\", \"P\", \"*\", \"h\", \"H\", \"+\", \"x\", \"X\", \"D\", \"d\", \"|\", \"_\"])\n",
        "    plt.semilogx(xval, yval_mean, label=o, c=c, marker=m, markersize=s)\n",
        "    #plt.annotate(o, (xval[-1], yval_mean[-1]), rotation=30)\n",
        "    for i in range(len(xval)):\n",
        "      #plt.plot([xval[i], xval[i]], [yval_mean[i] - yval_std[i], yval_mean[i] + yval_std[i]], c=\"k\", marker=\"+\")\n",
        "      plt.semilogx([xval[i] * (1. + .1 * np.cos(theta)) for theta in angles], [yval_mean[i] + yval_std[i] * np.sin(theta) for theta in angles], c=\"grey\", linestyle=\"dashed\")\n",
        "  plt.legend()\n",
        "  plt.title(context_string + \"\\n Convergence curves\")\n",
        "  plt.tight_layout()\n",
        "  plt.savefig(\"cc\" + obj_name + \".png\")\n",
        "  files.download(\"cc\" + obj_name + \".png\")\n",
        "  plt.savefig(\"cc\" + obj_name + \".svg\")\n",
        "  files.download(\"cc\" + obj_name + \".svg\")\n",
        "  plt.pause(0.05)\n",
        "\n",
        "  # Now pretty plotting with score on the x-axis and comp. time on the y-axis.\n",
        "  plt.clf()\n",
        "  maxi = max([np.sum(scores[o]) / len(scores[o]) for o in scores])\n",
        "  mini = min([np.sum(scores[o]) / len(scores[o]) for o in scores])\n",
        "  width = maxi - mini\n",
        "  for i, o in enumerate(sorted(scores, key=lambda x: np.sum(computational_cost[x]) / len(scores[x]))):\n",
        "    avg_score = np.sum(scores[o]) / len(scores[o])\n",
        "    std_score = np.std(scores[o]) / np.sqrt(len(scores[o]))\n",
        "    avg_time = np.sum(computational_cost[o]) / len(computational_cost[o])\n",
        "    print(o, avg_score, \"+-\", std_score, \"   in time \", avg_time)\n",
        "    plt.annotate(\"     \" + o, (avg_score, avg_time), rotation=0. + 70. * i / len(scores))\n",
        "    plt.loglog([avg_score], [avg_time], '*')\n",
        "    plt.loglog([avg_score-std_score, avg_score+std_score], [avg_time, avg_time], '-')\n",
        "    plt.xlabel(\"Score\")\n",
        "    plt.ylabel(\"Comp. time\")\n",
        "  plt.title(context_string + \"\\n Loss vs computational cost\")\n",
        "  plt.tight_layout()\n",
        "  plt.savefig(\"comptime\" + obj_name + \".png\")\n",
        "  files.download(\"comptime\" + obj_name + \".png\")\n",
        "  plt.savefig(\"comptime\" + obj_name + \".svg\")\n",
        "  files.download(\"comptime\" + obj_name + \".svg\")\n",
        "  plt.pause(0.05)\n",
        "\n",
        "  # Boxplots for all algorithms.\n",
        "  plt.clf()\n",
        "  names = sorted(scores.keys(), key=lambda x: np.sum(scores[x]) / len(scores[x]))\n",
        "  plt.boxplot([scores[o] for o in names])\n",
        "  x = []\n",
        "  y = []\n",
        "  for u, k in enumerate(names):\n",
        "    for i, s in enumerate(scores[k]):\n",
        "      x += [u + 0.9 + np.random.rand() * .2]\n",
        "      y += [sorted(scores[k])[i]]\n",
        "  plt.plot(x, y, \"*\")\n",
        "  import pylab\n",
        "  ax = plt.gca()\n",
        "  ax.set_xticklabels(ax.get_xticks(), rotation = 45, ha=\"right\")\n",
        "  pylab.xticks(range(1, len(names)+1), names)\n",
        "  plt.title(f\"Performance of different algorithms for {obj_name}\\n with budget {budget} and dim {dim}\\n (lower the better)\")\n",
        "  plt.tight_layout()\n",
        "  plt.savefig(\"bp\" + obj_name + \".png\")\n",
        "  files.download(\"bp\" + obj_name + \".png\")\n",
        "  plt.savefig(\"bp\" + obj_name + \".svg\")\n",
        "  files.download(\"bp\" + obj_name + \".svg\")\n",
        "  plt.pause(0.05)\n",
        "\n",
        "  # And consistency plots for all algorithms.\n",
        "  plt.clf()\n",
        "  names = sorted(scores.keys(), key=lambda x: -np.max(scores[x]))\n",
        "  for k in names:\n",
        "    c = get_color(k)\n",
        "    s = np.random.RandomState(doint(k)).choice([6, 10, 13])\n",
        "    m = np.random.RandomState(doint(k)).choice([\"o\", \"^\", \"v\", \"<\", \">\", \"1\", \"2\", \"3\", \"4\", \"8\", \"s\", \"p\", \"P\", \"*\", \"h\", \"H\", \"+\", \"x\", \"X\", \"D\", \"d\", \"|\", \"_\"])\n",
        "    plt.plot(range(len(scores[k])), sorted(scores[k], key=lambda x: x), label=k, c=c, marker=m, markersize=s)\n",
        "  plt.legend()\n",
        "  plt.title(f\"{context_string}\\nScores of the different runs of each method, sorted. The lower the better.\")\n",
        "  plt.tight_layout()\n",
        "  plt.savefig(\"q\" + obj_name + \".png\")\n",
        "  files.download(\"q\" + obj_name + \".png\")\n",
        "  plt.savefig(\"q\" + obj_name + \".svg\")\n",
        "  files.download(\"q\" + obj_name + \".svg\")"
      ]
    }
  ],
  "metadata": {
    "colab": {
      "provenance": []
    },
    "kernelspec": {
      "display_name": "Python 3",
      "name": "python3"
    },
    "language_info": {
      "codemirror_mode": {
        "name": "ipython",
        "version": 3
      },
      "file_extension": ".py",
      "mimetype": "text/x-python",
      "name": "python",
      "nbconvert_exporter": "python",
      "pygments_lexer": "ipython3",
      "version": "3.10.12"
    }
  },
  "nbformat": 4,
  "nbformat_minor": 0
}